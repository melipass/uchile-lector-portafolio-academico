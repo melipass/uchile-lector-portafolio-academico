{
 "cells": [
  {
   "cell_type": "code",
   "execution_count": null,
   "metadata": {},
   "outputs": [],
   "source": [
    "import json\n",
    "from bs4 import BeautifulSoup\n",
    "import urllib3\n",
    "import re\n",
    "import pandas as pd\n",
    "import numpy as np"
   ]
  },
  {
   "cell_type": "code",
   "execution_count": null,
   "metadata": {},
   "outputs": [],
   "source": [
    "with open('all_usernames.csv') as file:\n",
    "    usernames = file.read().splitlines()"
   ]
  },
  {
   "cell_type": "code",
   "execution_count": null,
   "metadata": {},
   "outputs": [],
   "source": [
    "def get_html_data(username):\n",
    "        html_data = pd.DataFrame(columns=['departamento','nombre','correo','tipo','horas','perfilAcademico'])\n",
    "        url = \"https://www.uchile.cl/portafolio-academico/perfilAcademico.jsf?username=\" + username\n",
    "        http = urllib3.PoolManager()\n",
    "        response = http.request('GET', url)\n",
    "        soup = BeautifulSoup(response.data.decode('utf-8'), \"html.parser\")\n",
    "        try:\n",
    "                perfilAcademico = soup.findAll('h7')[0].text\n",
    "                other_temp_df = pd.DataFrame({'nombre':soup.findAll('h1')[0].text,\n",
    "                                'correo':soup.findAll('a', attrs={'href': re.compile(\"mailto*\")})[0].text,\n",
    "                                'perfilAcademico':perfilAcademico},\n",
    "                                index=[0])\n",
    "                html_data = html_data.append(other_temp_df)\n",
    "                print(username)\n",
    "        except:\n",
    "                try:\n",
    "                        other_temp_df = pd.DataFrame({'nombre':soup.findAll('h1')[0].text,\n",
    "                                        'correo':soup.findAll('a', attrs={'href': re.compile(\"mailto*\")})[0].text},\n",
    "                                        index=[0])\n",
    "                        html_data = html_data.append(other_temp_df)\n",
    "                except:\n",
    "                        print(username)\n",
    "                        return pd.DataFrame()\n",
    "        nombramientos = soup.findAll('ul', attrs={'class': re.compile(\"nombramientos\")})\n",
    "        for i in nombramientos:\n",
    "                for li in i.findAll('li'):\n",
    "                        vals = {'tipo':li.findAll('h6')[0].text,\n",
    "                                'departamento':li.findAll('h6')[1].text,\n",
    "                                'horas':li.findAll('h6')[2].text}\n",
    "                        temp_df = pd.DataFrame(vals,index=[0])\n",
    "                        html_data = html_data.append(temp_df)\n",
    "        return html_data\n"
   ]
  },
  {
   "cell_type": "code",
   "execution_count": null,
   "metadata": {},
   "outputs": [],
   "source": [
    "def get_datatable(datatable, user):\n",
    "    url = \"https://www.uchile.cl/portafolio-academico/datatable-\" + datatable + \".jsf?username=\" + user\n",
    "    http = urllib3.PoolManager()\n",
    "    response = http.request('GET', url)\n",
    "    soup = BeautifulSoup(response.data.decode('utf-8'))\n",
    "    data = json.loads(soup.get_text())\n",
    "    return data"
   ]
  },
  {
   "cell_type": "code",
   "execution_count": null,
   "metadata": {},
   "outputs": [],
   "source": [
    "tables = [\"titulosGrados\",\"CargosCurriculum\",\"docencia\",\"publicaciones\",\"libros\",\"proyectosInv\",\"tesis\",\"patentes\"]\n",
    "titulosGrados = ['descripcion','institucion','fecha']\n",
    "CargosCurriculum = ['fechaInicio','fechaFin','cargo','organismo','departamento']\n",
    "docencia = ['organismo','areaAcademica','nombreRamo','codigo','agno','participacionDoc']\n",
    "publicaciones = ['primerosAutores','tituloPublicacion','agno','tituloRevista','tipoPublicacion','doiURL']\n",
    "libros = ['titulo','editor','anoPublicacion']\n",
    "proyectosInv = ['codigoProyecto','tituloProyecto','fechaInicio','fechaFin','investigadorCoinvestigador','intituciones','programa','fuente']\n",
    "tesis = ['autores','titulo','facultad','anoPublicacion','profesorGuia','profesorComision','tema','fuente']\n",
    "patentes = ['prioridad','titulo','derecho','academicos','facultad_1','facultad_2','facultad_3','licencia','numSolicitud']\n",
    "all_columns = []\n",
    "all_columns.extend(titulosGrados)\n",
    "all_columns.extend(CargosCurriculum)\n",
    "all_columns.extend(docencia)\n",
    "all_columns.extend(publicaciones)\n",
    "all_columns.extend(libros)\n",
    "all_columns.extend(proyectosInv)\n",
    "all_columns.extend(tesis)\n",
    "all_columns.extend(patentes)"
   ]
  },
  {
   "cell_type": "code",
   "execution_count": null,
   "metadata": {},
   "outputs": [],
   "source": [
    "def read_json(json, columns, name):\n",
    "    #if len(temp1['filasDataTable'] > 0):\n",
    "    df = pd.DataFrame(columns=columns)\n",
    "    for i in range(len(json['filasDataTable'])):\n",
    "        for value in columns:\n",
    "            df.loc[i, value] = json['filasDataTable'][i][value]\n",
    "    return df"
   ]
  },
  {
   "cell_type": "code",
   "execution_count": null,
   "metadata": {},
   "outputs": [],
   "source": [
    "data = []\n",
    "dataframe = pd.DataFrame()\n",
    "for i in range(1500,1720):\n",
    "    try:\n",
    "        user = usernames[i]\n",
    "        temp1 = get_datatable(tables[0], user)\n",
    "        temp2 = get_datatable(tables[1], user)\n",
    "        temp3 = get_datatable(tables[2], user)\n",
    "        temp4 = get_datatable(tables[3], user)\n",
    "        temp5 = get_datatable(tables[4], user)\n",
    "        temp6 = get_datatable(tables[5], user)\n",
    "        temp7 = get_datatable(tables[6], user)\n",
    "        temp8 = get_datatable(tables[7], user)\n",
    "        try:\n",
    "            temp_dataframe = pd.concat([get_html_data(user).reset_index(drop=True),\n",
    "                                        read_json(temp1, titulosGrados, 'titulosGrados'),\n",
    "                                        read_json(temp2, CargosCurriculum, 'CargosCurriculum'),\n",
    "                                        read_json(temp3, docencia, 'docencia'),\n",
    "                                        read_json(temp4, publicaciones, 'publicaciones'),\n",
    "                                        read_json(temp5, libros, 'libros'),\n",
    "                                        read_json(temp6, proyectosInv, 'proyectosInv'),\n",
    "                                        read_json(temp7, tesis, 'tesis'),\n",
    "                                        read_json(temp8, patentes, 'patentes')],\n",
    "                                        axis=1)\n",
    "            dataframe = dataframe.append(temp_dataframe)\n",
    "        except:\n",
    "            pass\n",
    "    except:\n",
    "        print(user)\n",
    "        pass"
   ]
  },
  {
   "cell_type": "code",
   "execution_count": null,
   "metadata": {},
   "outputs": [],
   "source": [
    "dataframe = dataframe.replace(np.nan, '', regex=True)\n",
    "dataframe.to_csv('data.csv', index=False,encoding='utf-8-sig')"
   ]
  }
 ],
 "metadata": {
  "interpreter": {
   "hash": "1d76bb280da093bf7260b592363b449b8d54408228f36ce25dff58a9f746dd21"
  },
  "kernelspec": {
   "display_name": "Python 3.9.1 64-bit",
   "language": "python",
   "name": "python3"
  },
  "language_info": {
   "codemirror_mode": {
    "name": "ipython",
    "version": 3
   },
   "file_extension": ".py",
   "mimetype": "text/x-python",
   "name": "python",
   "nbconvert_exporter": "python",
   "pygments_lexer": "ipython3",
   "version": "3.9.1"
  },
  "orig_nbformat": 4
 },
 "nbformat": 4,
 "nbformat_minor": 2
}
