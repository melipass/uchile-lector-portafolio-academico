{
 "cells": [
  {
   "cell_type": "code",
   "execution_count": 10,
   "metadata": {},
   "outputs": [],
   "source": [
    "from bs4 import BeautifulSoup\n",
    "import urllib3\n",
    "import re\n",
    "import pandas as pd\n",
    "\n",
    "def get_usernames(faculty, department):\n",
    "    usernames = []\n",
    "    url = \"https://www.uchile.cl/portafolio-academico/resultadoBusqueda.jsf?reparticion=\" + faculty + \"&departamento=\" + department\n",
    "    http = urllib3.PoolManager()\n",
    "    response = http.request('GET', url)\n",
    "    soup = BeautifulSoup(response.data.decode('utf-8'), \"html.parser\")\n",
    "    for link in soup.findAll('a', attrs={'href': re.compile(\"^perfilAcademico\")}):\n",
    "        usernames.append(link.get('href')[29:])\n",
    "    return usernames\n",
    "\n",
    "def get_all_usernames(faculty, pages):\n",
    "    usernames = []\n",
    "    for i in range(1, pages + 1):\n",
    "        url = \"https://www.uchile.cl/portafolio-academico/resultadoBusqueda.jsf?reparticion=\" + faculty + \"&pagina=\" + str(i)\n",
    "        http = urllib3.PoolManager()\n",
    "        response = http.request('GET', url)\n",
    "        soup = BeautifulSoup(response.data.decode('utf-8'), \"html.parser\")\n",
    "        for link in soup.findAll('a', attrs={'href': re.compile(\"^perfilAcademico\")}):\n",
    "            usernames.append(link.get('href')[29:])\n",
    "    return usernames"
   ]
  },
  {
   "cell_type": "code",
   "execution_count": 45,
   "metadata": {},
   "outputs": [],
   "source": [
    "dept = pd.read_csv('departments-medicine.csv', header=None, names=['faculty', 'department'])\n",
    "faculty = str(1213)\n",
    "departments = []\n",
    "for i in range(dept['faculty'].size):\n",
    "    departments.append(str(dept['faculty'][i]))"
   ]
  },
  {
   "cell_type": "code",
   "execution_count": 12,
   "metadata": {},
   "outputs": [],
   "source": [
    "#all_usernames = []\n",
    "#all_usernames.append(get_all_usernames('1213', 82))\n",
    "#df = pd.DataFrame(all_usernames[0])\n",
    "#df.drop_duplicates(inplace=True)\n",
    "#df.to_csv(\"all_usernames.csv\", index = False)"
   ]
  }
 ],
 "metadata": {
  "interpreter": {
   "hash": "1d76bb280da093bf7260b592363b449b8d54408228f36ce25dff58a9f746dd21"
  },
  "kernelspec": {
   "display_name": "Python 3.9.1 64-bit",
   "language": "python",
   "name": "python3"
  },
  "language_info": {
   "codemirror_mode": {
    "name": "ipython",
    "version": 3
   },
   "file_extension": ".py",
   "mimetype": "text/x-python",
   "name": "python",
   "nbconvert_exporter": "python",
   "pygments_lexer": "ipython3",
   "version": "3.9.1"
  },
  "orig_nbformat": 4
 },
 "nbformat": 4,
 "nbformat_minor": 2
}
